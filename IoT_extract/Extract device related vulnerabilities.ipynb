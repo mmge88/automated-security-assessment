{
 "cells": [
  {
   "cell_type": "code",
   "execution_count": 1,
   "metadata": {},
   "outputs": [],
   "source": [
    "import pandas as pd"
   ]
  },
  {
   "cell_type": "code",
   "execution_count": 2,
   "metadata": {},
   "outputs": [
    {
     "output_type": "stream",
     "name": "stderr",
     "text": [
      "<ipython-input-2-0891b765a168>:1: FutureWarning: Passing a negative integer is deprecated in version 1.0 and will not be supported in future version. Instead, use None to not limit the column width.\n  pd.set_option('display.max_colwidth', -1)\n"
     ]
    }
   ],
   "source": [
    "pd.set_option('display.max_colwidth', -1)"
   ]
  },
  {
   "cell_type": "code",
   "execution_count": 3,
   "metadata": {},
   "outputs": [],
   "source": [
    "pd.set_option(\"display.max_rows\", None) "
   ]
  },
  {
   "cell_type": "code",
   "execution_count": 4,
   "metadata": {},
   "outputs": [],
   "source": [
    "DF = pd.read_csv('all.csv', low_memory=False)"
   ]
  },
  {
   "cell_type": "code",
   "execution_count": 5,
   "metadata": {},
   "outputs": [],
   "source": [
    "df = DF.drop(columns=['Unnamed: 0'])"
   ]
  },
  {
   "cell_type": "code",
   "execution_count": 6,
   "metadata": {},
   "outputs": [],
   "source": [
    "df.columns = [\n",
    " 'ID',\n",
    " 'publishedDate',\n",
    " 'lastModifiedDate',\n",
    " 'Vendor',\n",
    " 'Product',\n",
    " 'Type',\n",
    " 'Description',\n",
    " 'cvssV2_version',\n",
    " 'cvssV2_vectorString',\n",
    " 'cvssV2_accessVector',\n",
    " 'cvssV2_accessComplexity',\n",
    " 'cvssV2_authentication',\n",
    " 'cvssV2_confidentialityImpact',\n",
    " 'cvssV2_integrityImpact',\n",
    " 'cvssV2_availabilityImpact',\n",
    " 'cvssV2_baseScore',\n",
    " 'cvssV2_severity',\n",
    " 'cvssV2_exploitabilityScore',\n",
    " 'cvssV2_impactScore',\n",
    " 'cvssV2_obtainAllPrivilege',\n",
    " 'cvssV2_obtainUserPrivilege',\n",
    " 'cvssV2_obtainOtherPrivilege',\n",
    " 'cvssV2_userInteractionRequired',\n",
    " 'cvssV3_version',\n",
    " 'cvssV3_vectorString',\n",
    " 'cvssV3_attackVector',\n",
    " 'cvssV3_attackComplexity',\n",
    " 'cvssV3_privilegesRequired',\n",
    " 'cvssV3_userInteraction',\n",
    " 'cvssV3_scope',\n",
    " 'cvssV3_confidentialityImpact',\n",
    " 'cvssV3_integrityImpact',\n",
    " 'cvssV3_availabilityImpact',\n",
    " 'cvssV3_baseScore',\n",
    " 'cvssV3_baseSeverity',\n",
    " 'cvssV3_exploitabilityScore',\n",
    " 'cvssV3_impactScore',\n",
    " 'cvssV2_acInsufInfo',\n",
    " 'clean_description']"
   ]
  },
  {
   "cell_type": "code",
   "execution_count": 8,
   "metadata": {},
   "outputs": [
    {
     "output_type": "execute_result",
     "data": {
      "text/plain": [
       "              ID      publishedDate   lastModifiedDate  \\\n",
       "0  CVE-1999-0001  1999-12-30T05:00Z  2010-12-16T05:00Z   \n",
       "\n",
       "                           Vendor  \\\n",
       "0  ['bsdi', 'freebsd', 'openbsd']   \n",
       "\n",
       "                                                                                                                                                                                                                                                                                                                                                                                      Product  \\\n",
       "0  ['bsd_os_3.1', 'freebsd_1.0', 'freebsd_1.1', 'freebsd_1.1.5.1', 'freebsd_1.2', 'freebsd_2.0', 'freebsd_2.0.1', 'freebsd_2.0.5', 'freebsd_2.1.5', 'freebsd_2.1.6', 'freebsd_2.1.6.1', 'freebsd_2.1.7', 'freebsd_2.1.7.1', 'freebsd_2.2', 'freebsd_2.2.2', 'freebsd_2.2.3', 'freebsd_2.2.4', 'freebsd_2.2.5', 'freebsd_2.2.6', 'freebsd_2.2.8', 'freebsd_3.0', 'openbsd_2.3', 'openbsd_2.4']   \n",
       "\n",
       "     Type  \\\n",
       "0  CWE-20   \n",
       "\n",
       "                                                                                                                                  Description  \\\n",
       "0  ip_input.c in BSD-derived TCP/IP implementations allows remote attackers to cause a denial of service (crash or hang) via crafted packets.   \n",
       "\n",
       "   cvssV2_version         cvssV2_vectorString cvssV2_accessVector  ...  \\\n",
       "0  2.0             AV:N/AC:L/Au:N/C:N/I:N/A:P  NETWORK             ...   \n",
       "\n",
       "  cvssV3_scope cvssV3_confidentialityImpact cvssV3_integrityImpact  \\\n",
       "0  NaN          NaN                          NaN                     \n",
       "\n",
       "  cvssV3_availabilityImpact cvssV3_baseScore  cvssV3_baseSeverity  \\\n",
       "0  NaN                      NaN               NaN                   \n",
       "\n",
       "  cvssV3_exploitabilityScore  cvssV3_impactScore  cvssV2_acInsufInfo  \\\n",
       "0 NaN                        NaN                  NaN                  \n",
       "\n",
       "                                                                                                       clean_description  \n",
       "0  ip_input.c bsd-derived tcp/ip implementations allows remote attackers cause denial service crash hang crafted packets  \n",
       "\n",
       "[1 rows x 39 columns]"
      ],
      "text/html": "<div>\n<style scoped>\n    .dataframe tbody tr th:only-of-type {\n        vertical-align: middle;\n    }\n\n    .dataframe tbody tr th {\n        vertical-align: top;\n    }\n\n    .dataframe thead th {\n        text-align: right;\n    }\n</style>\n<table border=\"1\" class=\"dataframe\">\n  <thead>\n    <tr style=\"text-align: right;\">\n      <th></th>\n      <th>ID</th>\n      <th>publishedDate</th>\n      <th>lastModifiedDate</th>\n      <th>Vendor</th>\n      <th>Product</th>\n      <th>Type</th>\n      <th>Description</th>\n      <th>cvssV2_version</th>\n      <th>cvssV2_vectorString</th>\n      <th>cvssV2_accessVector</th>\n      <th>...</th>\n      <th>cvssV3_scope</th>\n      <th>cvssV3_confidentialityImpact</th>\n      <th>cvssV3_integrityImpact</th>\n      <th>cvssV3_availabilityImpact</th>\n      <th>cvssV3_baseScore</th>\n      <th>cvssV3_baseSeverity</th>\n      <th>cvssV3_exploitabilityScore</th>\n      <th>cvssV3_impactScore</th>\n      <th>cvssV2_acInsufInfo</th>\n      <th>clean_description</th>\n    </tr>\n  </thead>\n  <tbody>\n    <tr>\n      <th>0</th>\n      <td>CVE-1999-0001</td>\n      <td>1999-12-30T05:00Z</td>\n      <td>2010-12-16T05:00Z</td>\n      <td>['bsdi', 'freebsd', 'openbsd']</td>\n      <td>['bsd_os_3.1', 'freebsd_1.0', 'freebsd_1.1', 'freebsd_1.1.5.1', 'freebsd_1.2', 'freebsd_2.0', 'freebsd_2.0.1', 'freebsd_2.0.5', 'freebsd_2.1.5', 'freebsd_2.1.6', 'freebsd_2.1.6.1', 'freebsd_2.1.7', 'freebsd_2.1.7.1', 'freebsd_2.2', 'freebsd_2.2.2', 'freebsd_2.2.3', 'freebsd_2.2.4', 'freebsd_2.2.5', 'freebsd_2.2.6', 'freebsd_2.2.8', 'freebsd_3.0', 'openbsd_2.3', 'openbsd_2.4']</td>\n      <td>CWE-20</td>\n      <td>ip_input.c in BSD-derived TCP/IP implementations allows remote attackers to cause a denial of service (crash or hang) via crafted packets.</td>\n      <td>2.0</td>\n      <td>AV:N/AC:L/Au:N/C:N/I:N/A:P</td>\n      <td>NETWORK</td>\n      <td>...</td>\n      <td>NaN</td>\n      <td>NaN</td>\n      <td>NaN</td>\n      <td>NaN</td>\n      <td>NaN</td>\n      <td>NaN</td>\n      <td>NaN</td>\n      <td>NaN</td>\n      <td>NaN</td>\n      <td>ip_input.c bsd-derived tcp/ip implementations allows remote attackers cause denial service crash hang crafted packets</td>\n    </tr>\n  </tbody>\n</table>\n<p>1 rows × 39 columns</p>\n</div>"
     },
     "metadata": {},
     "execution_count": 8
    }
   ],
   "source": [
    "df.head(1)"
   ]
  },
  {
   "cell_type": "code",
   "execution_count": 8,
   "metadata": {
    "scrolled": true
   },
   "outputs": [],
   "source": [
    "csv = df[df['Product'].str.contains('media_player', na=False, case=False)]\n",
    "#csv"
   ]
  },
  {
   "cell_type": "code",
   "execution_count": 9,
   "metadata": {
    "scrolled": true
   },
   "outputs": [],
   "source": [
    "csv = df[df['Description'].str.contains('media player', na=False, case=False)]\n",
    "#csv"
   ]
  },
  {
   "cell_type": "code",
   "execution_count": 8,
   "metadata": {
    "scrolled": true
   },
   "outputs": [],
   "source": [
    "csv = df[df['Vendor'].str.contains('broadcom', na=False, case=False)]\n",
    "#csv"
   ]
  },
  {
   "cell_type": "code",
   "execution_count": 8,
   "metadata": {},
   "outputs": [],
   "source": [
    "Media_player= df.loc[[35876,35795,21283,103791],:]\n",
    "Media_player.to_csv('Media player.csv')"
   ]
  },
  {
   "cell_type": "code",
   "execution_count": 9,
   "metadata": {},
   "outputs": [],
   "source": [
    "Motion_sensor= df.loc[[138919,115202,101121],:]\n",
    "Motion_sensor.to_csv('Motion sensor.csv')"
   ]
  },
  {
   "cell_type": "code",
   "execution_count": 16,
   "metadata": {},
   "outputs": [],
   "source": [
    "Door_window_alarm_sensor = df.loc[[119625,119627,140442,140443,140444],:]\n",
    "#Door_window_alarm_sensor\n",
    "Door_window_alarm_sensor.to_csv('Door window alarm sensor.csv')\n"
   ]
  },
  {
   "cell_type": "code",
   "execution_count": 13,
   "metadata": {},
   "outputs": [],
   "source": [
    "#smoke_sensor = df[df['Description'].str.contains('smoke', na=False, case=False) & ~df['Vendor'].str.contains('smokeping', na=False, case=False)  & ~df['Description'].str.contains('smokeping', na=False, case=False)]\n",
    "#smoke_sensor\n",
    "Smoke_sensor= df.loc[[530747,117745],:]\n",
    "\n",
    "Smoke_sensor.to_csv('Smoke sensor.csv')"
   ]
  },
  {
   "cell_type": "code",
   "execution_count": 26,
   "metadata": {},
   "outputs": [],
   "source": [
    "#Air_quality_sensor = df[df['Description'].str.contains('\\\\bair\\\\b', na=False, case=False) & ~df['Description'].str.contains('adobe', na=False, case=False)]\n",
    "#Air_quality_sensor\n",
    "Air_quality_sensor = df.loc[[129193,89011],:]\n",
    "Air_quality_sensor.to_csv('Air quality sensor.csv')\n"
   ]
  },
  {
   "cell_type": "code",
   "execution_count": 38,
   "metadata": {},
   "outputs": [],
   "source": [
    "#Window_sensor = df[df['Description'].str.contains('Proximity', na=False, case=False) ]\n",
    "#Window_sensor \n",
    "Window_sensor = df.loc[[84380,115977],:]\n",
    "Window_sensor.to_csv('Window sensor.csv')"
   ]
  },
  {
   "cell_type": "code",
   "execution_count": 63,
   "metadata": {},
   "outputs": [],
   "source": [
    "#Asset_tag = df[df['Description'].str.contains('RFID', na=False, case=False)]\n",
    "Asset_tag = df.loc[[75496,113016,128957],:]\n",
    "Asset_tag.to_csv('Asset tag.csv')"
   ]
  },
  {
   "cell_type": "code",
   "execution_count": 54,
   "metadata": {},
   "outputs": [],
   "source": [
    "Wearable_device = df[df['Description'].str.contains('wearable', na=False, case=False) & df['Description'].str.contains('position', na=False, case=False)]\n",
    "Wearable_device.to_csv('Wearable device.csv')"
   ]
  },
  {
   "cell_type": "code",
   "execution_count": 52,
   "metadata": {},
   "outputs": [],
   "source": [
    "Electrical_current_monitoring_sensor = df[df['Description'].str.contains('electricity', na=False, case=False)]\n",
    "Electrical_current_monitoring_sensor.to_csv('Electrical current monitoring sensor.csv')"
   ]
  },
  {
   "cell_type": "code",
   "execution_count": 56,
   "metadata": {},
   "outputs": [],
   "source": [
    "#Water_monitoring_sensor = df[df['Description'].str.contains('water', na=False, case=False) & ~df['Description'].str.contains('aka', na=False, case=False) & ~df['Description'].str.contains('watermark', na=False, case=False)]\n",
    "#Water_monitoring_sensor\n",
    "Water_monitoring_sensor = df.loc[[35412,59631],:]\n",
    "Water_monitoring_sensor.to_csv('Water monitoring sensor.csv')"
   ]
  },
  {
   "cell_type": "code",
   "execution_count": 71,
   "metadata": {},
   "outputs": [],
   "source": [
    "Repair_alarm = df[df['Description'].str.contains('warning', na=False, case=False)  & ~df['Vendor'].str.contains('microsoft', na=False, case=False)]\n",
    "Repair_alarm = df.loc[[2957,64452,66067],:]\n",
    "Repair_alarm.to_csv('Repair alarm.csv')"
   ]
  },
  {
   "cell_type": "code",
   "execution_count": null,
   "metadata": {},
   "outputs": [],
   "source": [
    "Fire_alarm = df.loc[[131547,131548,131549,131550],:]\n",
    "Fire_alarm.to_csv('Device related/Fire alarm.csv')"
   ]
  },
  {
   "cell_type": "code",
   "execution_count": 29,
   "metadata": {},
   "outputs": [],
   "source": [
    "Heat_sensor = df.loc[[121967,89011],:]\n",
    "Heat_sensor.to_csv('Device related/Heat sensor.csv')"
   ]
  },
  {
   "cell_type": "code",
   "execution_count": 30,
   "metadata": {},
   "outputs": [],
   "source": [
    "CO_sensor = df.loc[[76333,100649],:]\n",
    "CO_sensor.to_csv('Device related/CO sensor.csv')"
   ]
  },
  {
   "cell_type": "code",
   "execution_count": 31,
   "metadata": {},
   "outputs": [],
   "source": [
    "Speaker = df.loc[[110314,132735,132736,135301],:]\n",
    "Speaker.to_csv('Device related/Speaker.csv')"
   ]
  },
  {
   "cell_type": "code",
   "execution_count": 32,
   "metadata": {},
   "outputs": [],
   "source": [
    "TV = df.loc[[59654,98333],:]\n",
    "TV.to_csv('Device related/Smart TV.csv')"
   ]
  },
  {
   "cell_type": "code",
   "execution_count": 33,
   "metadata": {},
   "outputs": [],
   "source": [
    "Screen_projector = df.loc[[110242],:]\n",
    "Screen_projector.to_csv('Device related/Screen projector.csv')"
   ]
  },
  {
   "cell_type": "code",
   "execution_count": 34,
   "metadata": {},
   "outputs": [],
   "source": [
    "Smart_grid = df.loc[[78456,78457,78458,78459],:]\n",
    "Smart_grid.to_csv('Device related/Smart grid.csv')"
   ]
  },
  {
   "cell_type": "code",
   "execution_count": 35,
   "metadata": {},
   "outputs": [],
   "source": [
    "Ventilator = df.loc[[53423],:]\n",
    "Ventilator.to_csv('Device related/Ventilator.csv')"
   ]
  },
  {
   "cell_type": "code",
   "execution_count": 36,
   "metadata": {},
   "outputs": [],
   "source": [
    "Airconditioner = df.loc[[58581],:]\n",
    "Airconditioner.to_csv('Device related/Airconditioner.csv')"
   ]
  },
  {
   "cell_type": "code",
   "execution_count": 37,
   "metadata": {},
   "outputs": [],
   "source": [
    "CO2_sensor = df.loc[[129193,89011],:]\n",
    "CO2_sensor.to_csv('Device related/CO2 sensor.csv')"
   ]
  },
  {
   "cell_type": "code",
   "execution_count": 38,
   "metadata": {},
   "outputs": [],
   "source": [
    "Humidty_sensor = df.loc[[129193,89012],:]\n",
    "Humidty_sensor.to_csv('Device related/Humidty sensor.csv')"
   ]
  },
  {
   "cell_type": "code",
   "execution_count": 39,
   "metadata": {},
   "outputs": [],
   "source": [
    "Thermometer = df.loc[[121967,89011],:]\n",
    "Thermometer.to_csv('Device related/Thermometer.csv')"
   ]
  },
  {
   "cell_type": "code",
   "execution_count": 40,
   "metadata": {},
   "outputs": [],
   "source": [
    "Burglar_alarm = df.loc[[131547,131548,131549,131550],:]\n",
    "Burglar_alarm.to_csv('Device related/Burglar alarm.csv')"
   ]
  },
  {
   "cell_type": "code",
   "execution_count": 41,
   "metadata": {},
   "outputs": [],
   "source": [
    "Electronic_entrance = df.loc[[2554,110378,123422],:]\n",
    "Electronic_entrance.to_csv('Device related/Electronic entrance guard.csv')"
   ]
  },
  {
   "cell_type": "code",
   "execution_count": 42,
   "metadata": {},
   "outputs": [],
   "source": [
    "Occupancy_sensor = df.loc[[49275,89010],:]\n",
    "Occupancy_sensor.to_csv('Device related/Occupancy sensor.csv')"
   ]
  },
  {
   "cell_type": "code",
   "execution_count": 43,
   "metadata": {},
   "outputs": [],
   "source": [
    "Brightness_sensor = df.loc[[89012,131032],:]\n",
    "Brightness_sensor.to_csv('Device related/Brightness sensor.csv')"
   ]
  },
  {
   "cell_type": "code",
   "execution_count": 44,
   "metadata": {},
   "outputs": [],
   "source": [
    "lights = df.loc[[124492,83151,83152,83153,83154,83155],:]\n",
    "lights.to_csv('Device related/Lights.csv')"
   ]
  },
  {
   "cell_type": "code",
   "execution_count": 45,
   "metadata": {},
   "outputs": [],
   "source": [
    "Vedio_surveillance = df.loc[[68802,68803,96265],:]\n",
    "Vedio_surveillance.to_csv('Device related/Vedio surveillance.csv')"
   ]
  },
  {
   "cell_type": "code",
   "execution_count": null,
   "metadata": {},
   "outputs": [],
   "source": []
  },
  {
   "cell_type": "code",
   "execution_count": null,
   "metadata": {},
   "outputs": [],
   "source": []
  }
 ],
 "metadata": {
  "kernelspec": {
   "name": "python392jvsc74a57bd09330279268f3a646aa9a73cda58416042d029afa70623aed44c1bc8e9e63b386",
   "display_name": "Python 3.9.2 64-bit"
  },
  "language_info": {
   "codemirror_mode": {
    "name": "ipython",
    "version": 3
   },
   "file_extension": ".py",
   "mimetype": "text/x-python",
   "name": "python",
   "nbconvert_exporter": "python",
   "pygments_lexer": "ipython3",
   "version": "3.9.2"
  }
 },
 "nbformat": 4,
 "nbformat_minor": 2
}